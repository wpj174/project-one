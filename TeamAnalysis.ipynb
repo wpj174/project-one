{
 "cells": [
  {
   "cell_type": "markdown",
   "id": "3f35eb42",
   "metadata": {},
   "source": [
    "Data Science Project 1 for Team 1"
   ]
  },
  {
   "cell_type": "code",
   "execution_count": 12,
   "id": "1d8b3f3f",
   "metadata": {},
   "outputs": [],
   "source": [
    "# Load libraries\n",
    "\n",
    "import pandas as pd\n",
    "import requests\n",
    "from pprint import pprint\n",
    "\n",
    "# Import API key\n",
    "from api_keys import weather_api_key\n"
   ]
  },
  {
   "cell_type": "code",
   "execution_count": 13,
   "id": "eb6a6258",
   "metadata": {},
   "outputs": [
    {
     "data": {
      "text/html": [
       "<div>\n",
       "<style scoped>\n",
       "    .dataframe tbody tr th:only-of-type {\n",
       "        vertical-align: middle;\n",
       "    }\n",
       "\n",
       "    .dataframe tbody tr th {\n",
       "        vertical-align: top;\n",
       "    }\n",
       "\n",
       "    .dataframe thead th {\n",
       "        text-align: right;\n",
       "    }\n",
       "</style>\n",
       "<table border=\"1\" class=\"dataframe\">\n",
       "  <thead>\n",
       "    <tr style=\"text-align: right;\">\n",
       "      <th></th>\n",
       "      <th>First</th>\n",
       "      <th>Last</th>\n",
       "      <th>Nickname</th>\n",
       "    </tr>\n",
       "  </thead>\n",
       "  <tbody>\n",
       "    <tr>\n",
       "      <th>0</th>\n",
       "      <td>William</td>\n",
       "      <td>Johnson</td>\n",
       "      <td>Bill</td>\n",
       "    </tr>\n",
       "    <tr>\n",
       "      <th>1</th>\n",
       "      <td>Andrew</td>\n",
       "      <td>Stull</td>\n",
       "      <td>Drew</td>\n",
       "    </tr>\n",
       "    <tr>\n",
       "      <th>2</th>\n",
       "      <td>Tamekia</td>\n",
       "      <td>Phillips</td>\n",
       "      <td>Tamekia</td>\n",
       "    </tr>\n",
       "    <tr>\n",
       "      <th>3</th>\n",
       "      <td>Venkatesh</td>\n",
       "      <td>Hegde</td>\n",
       "      <td>Vankatesh</td>\n",
       "    </tr>\n",
       "    <tr>\n",
       "      <th>4</th>\n",
       "      <td>Henry</td>\n",
       "      <td>White</td>\n",
       "      <td>Henry</td>\n",
       "    </tr>\n",
       "    <tr>\n",
       "      <th>5</th>\n",
       "      <td>Michael</td>\n",
       "      <td>Hughes</td>\n",
       "      <td>Mike</td>\n",
       "    </tr>\n",
       "    <tr>\n",
       "      <th>6</th>\n",
       "      <td>Adam</td>\n",
       "      <td>Armagost</td>\n",
       "      <td>Adam</td>\n",
       "    </tr>\n",
       "    <tr>\n",
       "      <th>7</th>\n",
       "      <td>Ryan</td>\n",
       "      <td>Finley</td>\n",
       "      <td>Fin</td>\n",
       "    </tr>\n",
       "  </tbody>\n",
       "</table>\n",
       "</div>"
      ],
      "text/plain": [
       "       First      Last   Nickname\n",
       "0    William   Johnson       Bill\n",
       "1     Andrew     Stull       Drew\n",
       "2    Tamekia  Phillips    Tamekia\n",
       "3  Venkatesh     Hegde  Vankatesh\n",
       "4      Henry     White      Henry\n",
       "5    Michael    Hughes       Mike\n",
       "6       Adam  Armagost       Adam\n",
       "7       Ryan    Finley        Fin"
      ]
     },
     "execution_count": 13,
     "metadata": {},
     "output_type": "execute_result"
    }
   ],
   "source": [
    "# Load DataFrame\n",
    "\n",
    "mbrs_url = './Resources/members.csv'\n",
    "members_df = pd.read_csv(mbrs_url)\n",
    "\n",
    "members_df"
   ]
  },
  {
   "cell_type": "code",
   "execution_count": 18,
   "id": "5b5de14d",
   "metadata": {},
   "outputs": [
    {
     "name": "stdout",
     "output_type": "stream",
     "text": [
      "{'base': 'stations',\n",
      " 'clouds': {'all': 1},\n",
      " 'cod': 200,\n",
      " 'coord': {'lat': 34.0234, 'lon': -84.6155},\n",
      " 'dt': 1634757801,\n",
      " 'id': 4203696,\n",
      " 'main': {'feels_like': 74.03,\n",
      "          'humidity': 55,\n",
      "          'pressure': 1024,\n",
      "          'temp': 74.32,\n",
      "          'temp_max': 78.44,\n",
      "          'temp_min': 71.02},\n",
      " 'name': 'Kennesaw',\n",
      " 'sys': {'country': 'US',\n",
      "         'id': 47719,\n",
      "         'sunrise': 1634730460,\n",
      "         'sunset': 1634770704,\n",
      "         'type': 2},\n",
      " 'timezone': -14400,\n",
      " 'visibility': 10000,\n",
      " 'weather': [{'description': 'clear sky',\n",
      "              'icon': '01d',\n",
      "              'id': 800,\n",
      "              'main': 'Clear'}],\n",
      " 'wind': {'deg': 0, 'speed': 0}}\n"
     ]
    },
    {
     "data": {
      "text/html": [
       "<div>\n",
       "<style scoped>\n",
       "    .dataframe tbody tr th:only-of-type {\n",
       "        vertical-align: middle;\n",
       "    }\n",
       "\n",
       "    .dataframe tbody tr th {\n",
       "        vertical-align: top;\n",
       "    }\n",
       "\n",
       "    .dataframe thead th {\n",
       "        text-align: right;\n",
       "    }\n",
       "</style>\n",
       "<table border=\"1\" class=\"dataframe\">\n",
       "  <thead>\n",
       "    <tr style=\"text-align: right;\">\n",
       "      <th></th>\n",
       "      <th>temp</th>\n",
       "      <th>feels_like</th>\n",
       "      <th>temp_min</th>\n",
       "      <th>temp_max</th>\n",
       "      <th>pressure</th>\n",
       "      <th>humidity</th>\n",
       "    </tr>\n",
       "  </thead>\n",
       "  <tbody>\n",
       "    <tr>\n",
       "      <th>0</th>\n",
       "      <td>74.32</td>\n",
       "      <td>74.03</td>\n",
       "      <td>71.02</td>\n",
       "      <td>78.44</td>\n",
       "      <td>1024</td>\n",
       "      <td>55</td>\n",
       "    </tr>\n",
       "  </tbody>\n",
       "</table>\n",
       "</div>"
      ],
      "text/plain": [
       "    temp  feels_like  temp_min  temp_max  pressure  humidity\n",
       "0  74.32       74.03     71.02     78.44      1024        55"
      ]
     },
     "execution_count": 18,
     "metadata": {},
     "output_type": "execute_result"
    }
   ],
   "source": [
    "# Get current weather for Kennesaw, GA\n",
    "\n",
    "city = 'kennesaw'\n",
    "\n",
    "wx_url = f'http://api.openweathermap.org/data/2.5/weather?q={city}&appid={weather_api_key}&units=imperial'\n",
    "response = requests.get(wx_url).json()\n",
    "\n",
    "pprint(response)\n",
    "\n",
    "current_wx_df = pd.DataFrame([response['main']])\n",
    "\n",
    "current_wx_df"
   ]
  },
  {
   "cell_type": "code",
   "execution_count": null,
   "id": "ca4fcde2",
   "metadata": {},
   "outputs": [],
   "source": []
  }
 ],
 "metadata": {
  "kernelspec": {
   "display_name": "Python 3",
   "language": "python",
   "name": "python3"
  },
  "language_info": {
   "codemirror_mode": {
    "name": "ipython",
    "version": 3
   },
   "file_extension": ".py",
   "mimetype": "text/x-python",
   "name": "python",
   "nbconvert_exporter": "python",
   "pygments_lexer": "ipython3",
   "version": "3.8.8"
  }
 },
 "nbformat": 4,
 "nbformat_minor": 5
}
