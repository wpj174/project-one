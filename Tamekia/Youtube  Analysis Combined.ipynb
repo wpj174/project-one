{
 "cells": [
  {
   "cell_type": "code",
   "execution_count": 1,
   "id": "a46459f5",
   "metadata": {},
   "outputs": [],
   "source": [
    "import csv\n",
    "import pandas as pd\n",
    "import numpy as np\n",
    "import matplotlib.pyplot as plt\n",
    "import seaborn as sns"
   ]
  },
  {
   "cell_type": "code",
   "execution_count": 2,
   "id": "5c9e8bb1",
   "metadata": {},
   "outputs": [
    {
     "name": "stderr",
     "output_type": "stream",
     "text": [
      "C:\\ProgramData\\Anaconda3\\lib\\site-packages\\IPython\\core\\interactiveshell.py:3165: DtypeWarning: Columns (14,15) have mixed types.Specify dtype option on import or set low_memory=False.\n",
      "  has_raised = await self.run_ast_nodes(code_ast.body, cell_name,\n"
     ]
    },
    {
     "data": {
      "text/plain": [
       "(57453, 9)"
      ]
     },
     "execution_count": 2,
     "metadata": {},
     "output_type": "execute_result"
    }
   ],
   "source": [
    "#save file path to Variable \n",
    "us_file =\"US_Merged_data.csv\"\n",
    "gb_file =\"GB_Merged_data.csv\"\n",
    "# ca_file =\"CA_Merged_data.csv\"\n",
    "ind_file =\"IN_Merged_data.csv\"\n",
    "\n",
    "#Read the CSV into Pandas Dataframe \n",
    "us_youtube_df = pd.read_csv(us_file)\n",
    "gb_youtube_df = pd.read_csv(gb_file)\n",
    "# ca_youtube_df = pd.read_csv(ca_file)\n",
    "ind_youtube_df = pd.read_csv(ind_file)\n",
    "\n",
    "us_youtube_df['country']='US' \n",
    "gb_youtube_df['country']= 'GB'\n",
    "# ca_youtube_df['country']= 'CA'\n",
    "ind_youtube_df['country']= 'IND'\n",
    "\n",
    "\n",
    "df_cleaned_us = us_youtube_df[['video_id','view_count','likes','dislikes','comment_count','trending_date','categoryId','categoryName','country']].sort_values(['video_id','trending_date','view_count'],ascending=False).drop_duplicates(subset=\"video_id\")\n",
    "df_cleaned_gb = gb_youtube_df[['video_id','view_count','likes','dislikes','comment_count','trending_date','categoryId','categoryName','country']].sort_values(['video_id','trending_date','view_count'],ascending=False).drop_duplicates(subset=\"video_id\")\n",
    "df_cleaned_ind = ind_youtube_df[['video_id','view_count','likes','dislikes','comment_count','trending_date','categoryId','categoryName','country']].sort_values(['video_id','trending_date','view_count'],ascending=False).drop_duplicates(subset=\"video_id\")\n",
    "\n",
    "\n",
    "#df_cleaned_ind.shape\n",
    "frames = [df_cleaned_us, df_cleaned_gb,df_cleaned_ind]\n",
    "\n",
    "youtube_df = pd.concat(frames)\n",
    "\n",
    "\n",
    "youtube_df.shape"
   ]
  },
  {
   "cell_type": "code",
   "execution_count": 3,
   "id": "c1bae2af",
   "metadata": {},
   "outputs": [
    {
     "data": {
      "text/html": [
       "<div>\n",
       "<style scoped>\n",
       "    .dataframe tbody tr th:only-of-type {\n",
       "        vertical-align: middle;\n",
       "    }\n",
       "\n",
       "    .dataframe tbody tr th {\n",
       "        vertical-align: top;\n",
       "    }\n",
       "\n",
       "    .dataframe thead th {\n",
       "        text-align: right;\n",
       "    }\n",
       "</style>\n",
       "<table border=\"1\" class=\"dataframe\">\n",
       "  <thead>\n",
       "    <tr style=\"text-align: right;\">\n",
       "      <th></th>\n",
       "      <th>video_id</th>\n",
       "      <th>view_count</th>\n",
       "      <th>likes</th>\n",
       "      <th>dislikes</th>\n",
       "      <th>comment_count</th>\n",
       "      <th>trending_date</th>\n",
       "      <th>categoryId</th>\n",
       "      <th>categoryName</th>\n",
       "      <th>country</th>\n",
       "    </tr>\n",
       "  </thead>\n",
       "  <tbody>\n",
       "    <tr>\n",
       "      <th>9030</th>\n",
       "      <td>zzk09ESX7e0</td>\n",
       "      <td>9137783.0</td>\n",
       "      <td>567021.0</td>\n",
       "      <td>3304.0</td>\n",
       "      <td>75379.0</td>\n",
       "      <td>2021-06-08T00:00:00Z</td>\n",
       "      <td>10</td>\n",
       "      <td>Music</td>\n",
       "      <td>US</td>\n",
       "    </tr>\n",
       "  </tbody>\n",
       "</table>\n",
       "</div>"
      ],
      "text/plain": [
       "         video_id  view_count     likes  dislikes  comment_count  \\\n",
       "9030  zzk09ESX7e0   9137783.0  567021.0    3304.0        75379.0   \n",
       "\n",
       "             trending_date  categoryId categoryName country  \n",
       "9030  2021-06-08T00:00:00Z          10        Music      US  "
      ]
     },
     "execution_count": 3,
     "metadata": {},
     "output_type": "execute_result"
    }
   ],
   "source": [
    "youtube_df[youtube_df['country'] == 'US'].head(1)\n"
   ]
  },
  {
   "cell_type": "code",
   "execution_count": 4,
   "id": "be24ec62",
   "metadata": {},
   "outputs": [
    {
     "data": {
      "text/html": [
       "<div>\n",
       "<style scoped>\n",
       "    .dataframe tbody tr th:only-of-type {\n",
       "        vertical-align: middle;\n",
       "    }\n",
       "\n",
       "    .dataframe tbody tr th {\n",
       "        vertical-align: top;\n",
       "    }\n",
       "\n",
       "    .dataframe thead th {\n",
       "        text-align: right;\n",
       "    }\n",
       "</style>\n",
       "<table border=\"1\" class=\"dataframe\">\n",
       "  <thead>\n",
       "    <tr style=\"text-align: right;\">\n",
       "      <th></th>\n",
       "      <th>video_id</th>\n",
       "      <th>view_count</th>\n",
       "      <th>likes</th>\n",
       "      <th>dislikes</th>\n",
       "      <th>comment_count</th>\n",
       "      <th>trending_date</th>\n",
       "      <th>categoryId</th>\n",
       "      <th>categoryName</th>\n",
       "      <th>country</th>\n",
       "    </tr>\n",
       "  </thead>\n",
       "  <tbody>\n",
       "    <tr>\n",
       "      <th>67239</th>\n",
       "      <td>zzxPZwaA-8w</td>\n",
       "      <td>2144129.0</td>\n",
       "      <td>32744.0</td>\n",
       "      <td>823.0</td>\n",
       "      <td>2037.0</td>\n",
       "      <td>2021-05-30T00:00:00Z</td>\n",
       "      <td>17</td>\n",
       "      <td>Sports</td>\n",
       "      <td>GB</td>\n",
       "    </tr>\n",
       "  </tbody>\n",
       "</table>\n",
       "</div>"
      ],
      "text/plain": [
       "          video_id  view_count    likes  dislikes  comment_count  \\\n",
       "67239  zzxPZwaA-8w   2144129.0  32744.0     823.0         2037.0   \n",
       "\n",
       "              trending_date  categoryId categoryName country  \n",
       "67239  2021-05-30T00:00:00Z          17       Sports      GB  "
      ]
     },
     "execution_count": 4,
     "metadata": {},
     "output_type": "execute_result"
    }
   ],
   "source": [
    "youtube_df[youtube_df['country'] == 'GB'].head(1)"
   ]
  },
  {
   "cell_type": "code",
   "execution_count": 5,
   "id": "76cbff30",
   "metadata": {},
   "outputs": [
    {
     "data": {
      "text/html": [
       "<div>\n",
       "<style scoped>\n",
       "    .dataframe tbody tr th:only-of-type {\n",
       "        vertical-align: middle;\n",
       "    }\n",
       "\n",
       "    .dataframe tbody tr th {\n",
       "        vertical-align: top;\n",
       "    }\n",
       "\n",
       "    .dataframe thead th {\n",
       "        text-align: right;\n",
       "    }\n",
       "</style>\n",
       "<table border=\"1\" class=\"dataframe\">\n",
       "  <thead>\n",
       "    <tr style=\"text-align: right;\">\n",
       "      <th></th>\n",
       "      <th>video_id</th>\n",
       "      <th>view_count</th>\n",
       "      <th>likes</th>\n",
       "      <th>dislikes</th>\n",
       "      <th>comment_count</th>\n",
       "      <th>trending_date</th>\n",
       "      <th>categoryId</th>\n",
       "      <th>categoryName</th>\n",
       "      <th>country</th>\n",
       "    </tr>\n",
       "  </thead>\n",
       "  <tbody>\n",
       "    <tr>\n",
       "      <th>29848</th>\n",
       "      <td>zzYIDcNggBM</td>\n",
       "      <td>763130.0</td>\n",
       "      <td>49953.0</td>\n",
       "      <td>707.0</td>\n",
       "      <td>1730.0</td>\n",
       "      <td>2021-08-30T00:00:00Z</td>\n",
       "      <td>24</td>\n",
       "      <td>Entertainment</td>\n",
       "      <td>IND</td>\n",
       "    </tr>\n",
       "  </tbody>\n",
       "</table>\n",
       "</div>"
      ],
      "text/plain": [
       "          video_id  view_count    likes  dislikes  comment_count  \\\n",
       "29848  zzYIDcNggBM    763130.0  49953.0     707.0         1730.0   \n",
       "\n",
       "              trending_date  categoryId   categoryName country  \n",
       "29848  2021-08-30T00:00:00Z          24  Entertainment     IND  "
      ]
     },
     "execution_count": 5,
     "metadata": {},
     "output_type": "execute_result"
    }
   ],
   "source": [
    "youtube_df[youtube_df['country'] == 'IND'].head(1)"
   ]
  },
  {
   "cell_type": "code",
   "execution_count": 6,
   "id": "8701a97c",
   "metadata": {},
   "outputs": [
    {
     "data": {
      "text/html": [
       "<div>\n",
       "<style scoped>\n",
       "    .dataframe tbody tr th:only-of-type {\n",
       "        vertical-align: middle;\n",
       "    }\n",
       "\n",
       "    .dataframe tbody tr th {\n",
       "        vertical-align: top;\n",
       "    }\n",
       "\n",
       "    .dataframe thead th {\n",
       "        text-align: right;\n",
       "    }\n",
       "</style>\n",
       "<table border=\"1\" class=\"dataframe\">\n",
       "  <thead>\n",
       "    <tr style=\"text-align: right;\">\n",
       "      <th></th>\n",
       "      <th>Video ID</th>\n",
       "      <th>View Count</th>\n",
       "      <th>Likes</th>\n",
       "      <th>Dislikes</th>\n",
       "      <th>Comment Count</th>\n",
       "      <th>Trending Date</th>\n",
       "      <th>Category ID</th>\n",
       "      <th>Category Name</th>\n",
       "      <th>Country</th>\n",
       "    </tr>\n",
       "  </thead>\n",
       "  <tbody>\n",
       "    <tr>\n",
       "      <th>9030</th>\n",
       "      <td>zzk09ESX7e0</td>\n",
       "      <td>9137783.0</td>\n",
       "      <td>567021.0</td>\n",
       "      <td>3304.0</td>\n",
       "      <td>75379.0</td>\n",
       "      <td>2021-06-08T00:00:00Z</td>\n",
       "      <td>10</td>\n",
       "      <td>Music</td>\n",
       "      <td>US</td>\n",
       "    </tr>\n",
       "    <tr>\n",
       "      <th>6159</th>\n",
       "      <td>zzd4ydafGR0</td>\n",
       "      <td>13974461.0</td>\n",
       "      <td>728439.0</td>\n",
       "      <td>7579.0</td>\n",
       "      <td>57012.0</td>\n",
       "      <td>2021-02-21T00:00:00Z</td>\n",
       "      <td>10</td>\n",
       "      <td>Music</td>\n",
       "      <td>US</td>\n",
       "    </tr>\n",
       "    <tr>\n",
       "      <th>62915</th>\n",
       "      <td>zzEblS1lEvU</td>\n",
       "      <td>171649.0</td>\n",
       "      <td>2552.0</td>\n",
       "      <td>71.0</td>\n",
       "      <td>245.0</td>\n",
       "      <td>2021-01-04T00:00:00Z</td>\n",
       "      <td>17</td>\n",
       "      <td>Sports</td>\n",
       "      <td>US</td>\n",
       "    </tr>\n",
       "    <tr>\n",
       "      <th>31466</th>\n",
       "      <td>zyrJ0j7x9-4</td>\n",
       "      <td>1243504.0</td>\n",
       "      <td>41623.0</td>\n",
       "      <td>1476.0</td>\n",
       "      <td>4911.0</td>\n",
       "      <td>2020-08-30T00:00:00Z</td>\n",
       "      <td>20</td>\n",
       "      <td>Gaming</td>\n",
       "      <td>US</td>\n",
       "    </tr>\n",
       "    <tr>\n",
       "      <th>11521</th>\n",
       "      <td>zyebS_kRoEc</td>\n",
       "      <td>1786638.0</td>\n",
       "      <td>160552.0</td>\n",
       "      <td>2359.0</td>\n",
       "      <td>2023.0</td>\n",
       "      <td>2021-09-07T00:00:00Z</td>\n",
       "      <td>10</td>\n",
       "      <td>Music</td>\n",
       "      <td>US</td>\n",
       "    </tr>\n",
       "  </tbody>\n",
       "</table>\n",
       "</div>"
      ],
      "text/plain": [
       "          Video ID  View Count     Likes  Dislikes  Comment Count  \\\n",
       "9030   zzk09ESX7e0   9137783.0  567021.0    3304.0        75379.0   \n",
       "6159   zzd4ydafGR0  13974461.0  728439.0    7579.0        57012.0   \n",
       "62915  zzEblS1lEvU    171649.0    2552.0      71.0          245.0   \n",
       "31466  zyrJ0j7x9-4   1243504.0   41623.0    1476.0         4911.0   \n",
       "11521  zyebS_kRoEc   1786638.0  160552.0    2359.0         2023.0   \n",
       "\n",
       "              Trending Date  Category ID Category Name Country  \n",
       "9030   2021-06-08T00:00:00Z           10         Music      US  \n",
       "6159   2021-02-21T00:00:00Z           10         Music      US  \n",
       "62915  2021-01-04T00:00:00Z           17        Sports      US  \n",
       "31466  2020-08-30T00:00:00Z           20        Gaming      US  \n",
       "11521  2021-09-07T00:00:00Z           10         Music      US  "
      ]
     },
     "execution_count": 6,
     "metadata": {},
     "output_type": "execute_result"
    }
   ],
   "source": [
    "# Rename the headers to be more explanatory\n",
    "renamed_df = youtube_df.rename(columns={\"video_id\": \"Video ID\",\n",
    "                                        \"view_count\": \"View Count\",\n",
    "                                        \"likes\":\"Likes\",\n",
    "                                        \"dislikes\": \"Dislikes\",\n",
    "                                        \"comment_count\": \"Comment Count\",\n",
    "                                        \"trending_date\": \"Trending Date\",\n",
    "                                        \"categoryId\": \"Category ID\",\n",
    "                                        \"categoryName\": \"Category Name\",\n",
    "                                       \"country\":\"Country\"})\n",
    "renamed_df.head()"
   ]
  },
  {
   "cell_type": "code",
   "execution_count": 7,
   "id": "a839b722",
   "metadata": {},
   "outputs": [
    {
     "data": {
      "text/html": [
       "<div>\n",
       "<style scoped>\n",
       "    .dataframe tbody tr th:only-of-type {\n",
       "        vertical-align: middle;\n",
       "    }\n",
       "\n",
       "    .dataframe tbody tr th {\n",
       "        vertical-align: top;\n",
       "    }\n",
       "\n",
       "    .dataframe thead th {\n",
       "        text-align: right;\n",
       "    }\n",
       "</style>\n",
       "<table border=\"1\" class=\"dataframe\">\n",
       "  <thead>\n",
       "    <tr style=\"text-align: right;\">\n",
       "      <th></th>\n",
       "      <th>Country</th>\n",
       "      <th>View Count</th>\n",
       "      <th>Likes</th>\n",
       "      <th>Dislikes</th>\n",
       "      <th>Comment Count</th>\n",
       "      <th>Category ID</th>\n",
       "    </tr>\n",
       "  </thead>\n",
       "  <tbody>\n",
       "    <tr>\n",
       "      <th>0</th>\n",
       "      <td>GB</td>\n",
       "      <td>4.380357e+10</td>\n",
       "      <td>2.199518e+09</td>\n",
       "      <td>49675610.0</td>\n",
       "      <td>192773068.0</td>\n",
       "      <td>323547</td>\n",
       "    </tr>\n",
       "    <tr>\n",
       "      <th>1</th>\n",
       "      <td>IND</td>\n",
       "      <td>6.091092e+10</td>\n",
       "      <td>2.714492e+09</td>\n",
       "      <td>108523554.0</td>\n",
       "      <td>222103117.0</td>\n",
       "      <td>507461</td>\n",
       "    </tr>\n",
       "    <tr>\n",
       "      <th>2</th>\n",
       "      <td>US</td>\n",
       "      <td>5.152717e+10</td>\n",
       "      <td>2.598037e+09</td>\n",
       "      <td>58916917.0</td>\n",
       "      <td>212047622.0</td>\n",
       "      <td>323162</td>\n",
       "    </tr>\n",
       "  </tbody>\n",
       "</table>\n",
       "</div>"
      ],
      "text/plain": [
       "  Country    View Count         Likes     Dislikes  Comment Count  Category ID\n",
       "0      GB  4.380357e+10  2.199518e+09   49675610.0    192773068.0       323547\n",
       "1     IND  6.091092e+10  2.714492e+09  108523554.0    222103117.0       507461\n",
       "2      US  5.152717e+10  2.598037e+09   58916917.0    212047622.0       323162"
      ]
     },
     "execution_count": 7,
     "metadata": {},
     "output_type": "execute_result"
    }
   ],
   "source": [
    "countryGroup = renamed_df.groupby([\"Country\"])\n",
    "\n",
    "#adding all categories values together: \n",
    "countrySum_df=countryGroup.sum()\n",
    "#Resetting index\n",
    "countrySum_df = countrySum_df.reset_index()\n",
    "countrySum_df"
   ]
  },
  {
   "cell_type": "code",
   "execution_count": 8,
   "id": "b87f9792",
   "metadata": {},
   "outputs": [],
   "source": [
    "#dropping categories for bar graph: \n",
    "country_dropped = countrySum_df.drop(columns=['Category ID','View Count'])"
   ]
  },
  {
   "cell_type": "code",
   "execution_count": 9,
   "id": "420e17c3",
   "metadata": {},
   "outputs": [
    {
     "data": {
      "text/plain": [
       "<matplotlib.legend.Legend at 0x29e6deebdf0>"
      ]
     },
     "execution_count": 9,
     "metadata": {},
     "output_type": "execute_result"
    },
    {
     "data": {
      "image/png": "[encoded data removed]",
      "text/plain": [
       "<Figure size 432x288 with 1 Axes>"
      ]
     },
     "metadata": {
      "needs_background": "light"
     },
     "output_type": "display_data"
    }
   ],
   "source": [
    "country_dropped.plot(x='Country',\n",
    "        kind='bar',\n",
    "        stacked=False,\n",
    "        title='Total Comments vs Likes vs Dislikes')\n",
    "plt.legend(loc=\"best\")\n",
    "\n",
    "\n"
   ]
  },
  {
   "cell_type": "code",
   "execution_count": 10,
   "id": "9ab119a9",
   "metadata": {},
   "outputs": [
    {
     "data": {
      "image/png": "[encoded data removed]",
      "text/plain": [
       "<Figure size 432x288 with 1 Axes>"
      ]
     },
     "metadata": {
      "needs_background": "light"
     },
     "output_type": "display_data"
    }
   ],
   "source": [
    "# setting up Bar plot:\n",
    "\n",
    "labels = countrySum_df.index\n",
    "likes =countrySum_df['Likes']\n",
    "dislikes = countrySum_df['Dislikes']\n",
    "#view_count = countrySum_df['View Count']\n",
    "comment_count = countrySum_df['Comment Count']\n",
    "\n",
    "x = np.arange(len(labels))  # the label locations\n",
    "width = 0.35  # the width of the bars\n",
    "\n",
    "fig, ax = plt.subplots()\n",
    "rects1 = ax.bar(x - width/2, likes, width, label='Likes')\n",
    "rects2 = ax.bar(x + width+0.13 , dislikes, width, label='Dislikes')\n",
    "#rects3 = ax.bar(x + width/2, view_count, width, label='View Count')\n",
    "#rects4 = ax.bar(x + width/2, comment_count, width, label='Comment Count')\n",
    "\n",
    "# Add some text for labels, title and custom x-axis tick labels, etc.\n",
    "ax.set_ylabel('Values')\n",
    "ax.set_title('Total Views v Likes')\n",
    "ax.set_xticks(x)\n",
    "ax.set_xticklabels(labels)\n",
    "ax.legend()\n",
    "plt.ylim([0,3000000000])\n",
    "fig.tight_layout()\n",
    "\n",
    "plt.show()"
   ]
  },
  {
   "cell_type": "code",
   "execution_count": 11,
   "id": "03580341",
   "metadata": {},
   "outputs": [
    {
     "data": {
      "image/png": "[encoded data removed]",
      "text/plain": [
       "<Figure size 432x288 with 1 Axes>"
      ]
     },
     "metadata": {
      "needs_background": "light"
     },
     "output_type": "display_data"
    }
   ],
   "source": [
    "#Setting a bar plot for total of likes: \n",
    "plt.bar(countrySum_df.index.values,countrySum_df['Likes'],color=\"Green\")\n",
    "\n",
    "plt.ylabel(\"Total (Million)\")\n",
    "plt.xlabel(\"\")\n",
    "plt.title(\"Total Likes\")\n",
    "#plt.grid()\n",
    "plt.show()"
   ]
  },
  {
   "cell_type": "code",
   "execution_count": 12,
   "id": "ecd736c4",
   "metadata": {},
   "outputs": [
    {
     "data": {
      "image/png": "[encoded data removed]",
      "text/plain": [
       "<Figure size 432x288 with 1 Axes>"
      ]
     },
     "metadata": {
      "needs_background": "light"
     },
     "output_type": "display_data"
    }
   ],
   "source": [
    "#Setting a bar plot for total of likes: \n",
    "plt.bar(countrySum_df.index.values,countrySum_df['Dislikes'],color=\"red\")\n",
    "\n",
    "plt.ylabel(\"\")\n",
    "plt.xlabel(\"\")\n",
    "plt.title(\"Total Dislikes\")\n",
    "#plt.grid()\n",
    "plt.show()"
   ]
  },
  {
   "cell_type": "code",
   "execution_count": 13,
   "id": "5e49bd51",
   "metadata": {},
   "outputs": [
    {
     "data": {
      "image/png": "[encoded data removed]",
      "text/plain": [
       "<Figure size 432x288 with 1 Axes>"
      ]
     },
     "metadata": {
      "needs_background": "light"
     },
     "output_type": "display_data"
    }
   ],
   "source": [
    "#Setting a bar plot for total of likes: \n",
    "\n",
    "plt.bar(countrySum_df.index.values,countrySum_df['Comment Count'],color=\"blue\")\n",
    "\n",
    "plt.ylabel(\"\")\n",
    "plt.xlabel(\"\")\n",
    "plt.title(\"Total Comment Count \")\n",
    "#plt.grid()\n",
    "plt.show()"
   ]
  },
  {
   "cell_type": "code",
   "execution_count": 14,
   "id": "5eee1c05",
   "metadata": {},
   "outputs": [
    {
     "data": {
      "text/html": [
       "<div>\n",
       "<style scoped>\n",
       "    .dataframe tbody tr th:only-of-type {\n",
       "        vertical-align: middle;\n",
       "    }\n",
       "\n",
       "    .dataframe tbody tr th {\n",
       "        vertical-align: top;\n",
       "    }\n",
       "\n",
       "    .dataframe thead th {\n",
       "        text-align: right;\n",
       "    }\n",
       "</style>\n",
       "<table border=\"1\" class=\"dataframe\">\n",
       "  <thead>\n",
       "    <tr style=\"text-align: right;\">\n",
       "      <th></th>\n",
       "      <th>Category Name</th>\n",
       "      <th>Country</th>\n",
       "      <th>View Count</th>\n",
       "      <th>Likes</th>\n",
       "      <th>Dislikes</th>\n",
       "      <th>Comment Count</th>\n",
       "      <th>Category ID</th>\n",
       "    </tr>\n",
       "  </thead>\n",
       "  <tbody>\n",
       "    <tr>\n",
       "      <th>0</th>\n",
       "      <td>Autos &amp; Vehicles</td>\n",
       "      <td>GB</td>\n",
       "      <td>4.065066e+08</td>\n",
       "      <td>16625522.0</td>\n",
       "      <td>314123.0</td>\n",
       "      <td>1337544.0</td>\n",
       "      <td>632</td>\n",
       "    </tr>\n",
       "    <tr>\n",
       "      <th>1</th>\n",
       "      <td>Autos &amp; Vehicles</td>\n",
       "      <td>IND</td>\n",
       "      <td>1.821003e+08</td>\n",
       "      <td>9673667.0</td>\n",
       "      <td>294638.0</td>\n",
       "      <td>250555.0</td>\n",
       "      <td>270</td>\n",
       "    </tr>\n",
       "    <tr>\n",
       "      <th>2</th>\n",
       "      <td>Autos &amp; Vehicles</td>\n",
       "      <td>US</td>\n",
       "      <td>4.651076e+08</td>\n",
       "      <td>17759393.0</td>\n",
       "      <td>380428.0</td>\n",
       "      <td>1429100.0</td>\n",
       "      <td>716</td>\n",
       "    </tr>\n",
       "    <tr>\n",
       "      <th>3</th>\n",
       "      <td>Comedy</td>\n",
       "      <td>GB</td>\n",
       "      <td>1.780955e+09</td>\n",
       "      <td>101131843.0</td>\n",
       "      <td>2215682.0</td>\n",
       "      <td>5521380.0</td>\n",
       "      <td>18515</td>\n",
       "    </tr>\n",
       "    <tr>\n",
       "      <th>4</th>\n",
       "      <td>Comedy</td>\n",
       "      <td>IND</td>\n",
       "      <td>3.205963e+09</td>\n",
       "      <td>229713963.0</td>\n",
       "      <td>5995624.0</td>\n",
       "      <td>12413635.0</td>\n",
       "      <td>34592</td>\n",
       "    </tr>\n",
       "    <tr>\n",
       "      <th>5</th>\n",
       "      <td>Comedy</td>\n",
       "      <td>US</td>\n",
       "      <td>2.743370e+09</td>\n",
       "      <td>162819948.0</td>\n",
       "      <td>3633282.0</td>\n",
       "      <td>7567147.0</td>\n",
       "      <td>23460</td>\n",
       "    </tr>\n",
       "    <tr>\n",
       "      <th>6</th>\n",
       "      <td>Education</td>\n",
       "      <td>GB</td>\n",
       "      <td>7.515574e+08</td>\n",
       "      <td>35792544.0</td>\n",
       "      <td>761854.0</td>\n",
       "      <td>2415545.0</td>\n",
       "      <td>8883</td>\n",
       "    </tr>\n",
       "    <tr>\n",
       "      <th>7</th>\n",
       "      <td>Education</td>\n",
       "      <td>IND</td>\n",
       "      <td>7.840522e+08</td>\n",
       "      <td>35535333.0</td>\n",
       "      <td>1270704.0</td>\n",
       "      <td>2444347.0</td>\n",
       "      <td>15849</td>\n",
       "    </tr>\n",
       "    <tr>\n",
       "      <th>8</th>\n",
       "      <td>Education</td>\n",
       "      <td>US</td>\n",
       "      <td>8.487432e+08</td>\n",
       "      <td>41503343.0</td>\n",
       "      <td>803976.0</td>\n",
       "      <td>2728246.0</td>\n",
       "      <td>11556</td>\n",
       "    </tr>\n",
       "    <tr>\n",
       "      <th>9</th>\n",
       "      <td>Entertainment</td>\n",
       "      <td>GB</td>\n",
       "      <td>1.017995e+10</td>\n",
       "      <td>484774263.0</td>\n",
       "      <td>10933280.0</td>\n",
       "      <td>31551735.0</td>\n",
       "      <td>89856</td>\n",
       "    </tr>\n",
       "    <tr>\n",
       "      <th>10</th>\n",
       "      <td>Entertainment</td>\n",
       "      <td>IND</td>\n",
       "      <td>2.274094e+10</td>\n",
       "      <td>768897770.0</td>\n",
       "      <td>42635220.0</td>\n",
       "      <td>40873522.0</td>\n",
       "      <td>257568</td>\n",
       "    </tr>\n",
       "    <tr>\n",
       "      <th>11</th>\n",
       "      <td>Entertainment</td>\n",
       "      <td>US</td>\n",
       "      <td>1.200219e+10</td>\n",
       "      <td>580588820.0</td>\n",
       "      <td>13084335.0</td>\n",
       "      <td>34506796.0</td>\n",
       "      <td>83616</td>\n",
       "    </tr>\n",
       "    <tr>\n",
       "      <th>12</th>\n",
       "      <td>Film &amp; Animation</td>\n",
       "      <td>GB</td>\n",
       "      <td>1.117759e+09</td>\n",
       "      <td>47772688.0</td>\n",
       "      <td>1076444.0</td>\n",
       "      <td>3704296.0</td>\n",
       "      <td>420</td>\n",
       "    </tr>\n",
       "    <tr>\n",
       "      <th>13</th>\n",
       "      <td>Film &amp; Animation</td>\n",
       "      <td>IND</td>\n",
       "      <td>1.029625e+09</td>\n",
       "      <td>28892313.0</td>\n",
       "      <td>3068776.0</td>\n",
       "      <td>1973159.0</td>\n",
       "      <td>421</td>\n",
       "    </tr>\n",
       "    <tr>\n",
       "      <th>14</th>\n",
       "      <td>Film &amp; Animation</td>\n",
       "      <td>US</td>\n",
       "      <td>1.321882e+09</td>\n",
       "      <td>58231844.0</td>\n",
       "      <td>1087812.0</td>\n",
       "      <td>4389411.0</td>\n",
       "      <td>522</td>\n",
       "    </tr>\n",
       "    <tr>\n",
       "      <th>15</th>\n",
       "      <td>Gaming</td>\n",
       "      <td>GB</td>\n",
       "      <td>5.599455e+09</td>\n",
       "      <td>291556924.0</td>\n",
       "      <td>5629740.0</td>\n",
       "      <td>22097369.0</td>\n",
       "      <td>44380</td>\n",
       "    </tr>\n",
       "    <tr>\n",
       "      <th>16</th>\n",
       "      <td>Gaming</td>\n",
       "      <td>IND</td>\n",
       "      <td>1.791569e+09</td>\n",
       "      <td>147243803.0</td>\n",
       "      <td>3397928.0</td>\n",
       "      <td>8625580.0</td>\n",
       "      <td>15260</td>\n",
       "    </tr>\n",
       "    <tr>\n",
       "      <th>17</th>\n",
       "      <td>Gaming</td>\n",
       "      <td>US</td>\n",
       "      <td>6.784649e+09</td>\n",
       "      <td>343556306.0</td>\n",
       "      <td>6643562.0</td>\n",
       "      <td>25648361.0</td>\n",
       "      <td>53280</td>\n",
       "    </tr>\n",
       "    <tr>\n",
       "      <th>18</th>\n",
       "      <td>Howto &amp; Style</td>\n",
       "      <td>GB</td>\n",
       "      <td>7.943539e+08</td>\n",
       "      <td>34678592.0</td>\n",
       "      <td>1180737.0</td>\n",
       "      <td>2368187.0</td>\n",
       "      <td>11258</td>\n",
       "    </tr>\n",
       "    <tr>\n",
       "      <th>19</th>\n",
       "      <td>Howto &amp; Style</td>\n",
       "      <td>IND</td>\n",
       "      <td>9.095474e+08</td>\n",
       "      <td>38959814.0</td>\n",
       "      <td>1824085.0</td>\n",
       "      <td>2188358.0</td>\n",
       "      <td>20826</td>\n",
       "    </tr>\n",
       "  </tbody>\n",
       "</table>\n",
       "</div>"
      ],
      "text/plain": [
       "       Category Name Country    View Count        Likes    Dislikes  \\\n",
       "0   Autos & Vehicles      GB  4.065066e+08   16625522.0    314123.0   \n",
       "1   Autos & Vehicles     IND  1.821003e+08    9673667.0    294638.0   \n",
       "2   Autos & Vehicles      US  4.651076e+08   17759393.0    380428.0   \n",
       "3             Comedy      GB  1.780955e+09  101131843.0   2215682.0   \n",
       "4             Comedy     IND  3.205963e+09  229713963.0   5995624.0   \n",
       "5             Comedy      US  2.743370e+09  162819948.0   3633282.0   \n",
       "6          Education      GB  7.515574e+08   35792544.0    761854.0   \n",
       "7          Education     IND  7.840522e+08   35535333.0   1270704.0   \n",
       "8          Education      US  8.487432e+08   41503343.0    803976.0   \n",
       "9      Entertainment      GB  1.017995e+10  484774263.0  10933280.0   \n",
       "10     Entertainment     IND  2.274094e+10  768897770.0  42635220.0   \n",
       "11     Entertainment      US  1.200219e+10  580588820.0  13084335.0   \n",
       "12  Film & Animation      GB  1.117759e+09   47772688.0   1076444.0   \n",
       "13  Film & Animation     IND  1.029625e+09   28892313.0   3068776.0   \n",
       "14  Film & Animation      US  1.321882e+09   58231844.0   1087812.0   \n",
       "15            Gaming      GB  5.599455e+09  291556924.0   5629740.0   \n",
       "16            Gaming     IND  1.791569e+09  147243803.0   3397928.0   \n",
       "17            Gaming      US  6.784649e+09  343556306.0   6643562.0   \n",
       "18     Howto & Style      GB  7.943539e+08   34678592.0   1180737.0   \n",
       "19     Howto & Style     IND  9.095474e+08   38959814.0   1824085.0   \n",
       "\n",
       "    Comment Count  Category ID  \n",
       "0       1337544.0          632  \n",
       "1        250555.0          270  \n",
       "2       1429100.0          716  \n",
       "3       5521380.0        18515  \n",
       "4      12413635.0        34592  \n",
       "5       7567147.0        23460  \n",
       "6       2415545.0         8883  \n",
       "7       2444347.0        15849  \n",
       "8       2728246.0        11556  \n",
       "9      31551735.0        89856  \n",
       "10     40873522.0       257568  \n",
       "11     34506796.0        83616  \n",
       "12      3704296.0          420  \n",
       "13      1973159.0          421  \n",
       "14      4389411.0          522  \n",
       "15     22097369.0        44380  \n",
       "16      8625580.0        15260  \n",
       "17     25648361.0        53280  \n",
       "18      2368187.0        11258  \n",
       "19      2188358.0        20826  "
      ]
     },
     "execution_count": 14,
     "metadata": {},
     "output_type": "execute_result"
    }
   ],
   "source": [
    "#Setting up a group by to assess data by category: \n",
    "categorya =renamed_df.groupby([\"Category Name\",\"Country\"])\n",
    "categorya_df=categorya.sum()\n",
    "\n",
    "categorya2_df = categorya_df.reset_index()\n",
    "\n",
    "categorya2_df.head(20)"
   ]
  },
  {
   "cell_type": "code",
   "execution_count": 15,
   "id": "5cf8dae2",
   "metadata": {},
   "outputs": [
    {
     "data": {
      "text/plain": [
       "(16, 2)"
      ]
     },
     "execution_count": 15,
     "metadata": {},
     "output_type": "execute_result"
    }
   ],
   "source": [
    "#Setting up a dataframe to make a bar graph of all countries data\n",
    "\n",
    "gb = categorya2_df[categorya2_df['Country'] == 'GB']\n",
    "gb_likes = pd.DataFrame(gb[['Category Name','Likes']])\n",
    "gb_likes = gb_likes.rename(columns={\"Likes\": \"GB\"})\n",
    "#gb_likes = gb_likes.reset_index()\n",
    "\n",
    "ind = categorya2_df[categorya2_df['Country'] == 'IND']\n",
    "ind_likes = pd.DataFrame(ind[['Category Name','Likes']])\n",
    "ind_likes = ind_likes.rename(columns={\"Likes\": \"IND\"})\n",
    "#ind_likes = ind_likes.reset_index()\n",
    "\n",
    "us = categorya2_df[categorya2_df['Country'] == 'US']\n",
    "us_likes = pd.DataFrame(us[['Category Name','Likes']])\n",
    "us_likes = us_likes.rename(columns={\"Likes\": \"US\"})\n",
    "#us_likes = us_likes.reset_index()\n",
    "\n",
    "concatlikes_df = pd.merge(gb_likes, ind_likes, on=[\"Category Name\"])\n",
    "concatlikes_df = pd.merge(concatlikes_df, us_likes, on=[\"Category Name\"])\n",
    "#concatlikes_df[['Category Name','IND']]\n",
    "gb_likes.shape"
   ]
  },
  {
   "cell_type": "code",
   "execution_count": 16,
   "id": "e468d9fe",
   "metadata": {},
   "outputs": [
    {
     "data": {
      "text/html": [
       "<div>\n",
       "<style scoped>\n",
       "    .dataframe tbody tr th:only-of-type {\n",
       "        vertical-align: middle;\n",
       "    }\n",
       "\n",
       "    .dataframe tbody tr th {\n",
       "        vertical-align: top;\n",
       "    }\n",
       "\n",
       "    .dataframe thead th {\n",
       "        text-align: right;\n",
       "    }\n",
       "</style>\n",
       "<table border=\"1\" class=\"dataframe\">\n",
       "  <thead>\n",
       "    <tr style=\"text-align: right;\">\n",
       "      <th></th>\n",
       "      <th>Category Name</th>\n",
       "      <th>GB</th>\n",
       "      <th>IND</th>\n",
       "      <th>US</th>\n",
       "    </tr>\n",
       "  </thead>\n",
       "  <tbody>\n",
       "    <tr>\n",
       "      <th>0</th>\n",
       "      <td>Autos &amp; Vehicles</td>\n",
       "      <td>314123.0</td>\n",
       "      <td>294638.0</td>\n",
       "      <td>380428.0</td>\n",
       "    </tr>\n",
       "    <tr>\n",
       "      <th>1</th>\n",
       "      <td>Comedy</td>\n",
       "      <td>2215682.0</td>\n",
       "      <td>5995624.0</td>\n",
       "      <td>3633282.0</td>\n",
       "    </tr>\n",
       "    <tr>\n",
       "      <th>2</th>\n",
       "      <td>Education</td>\n",
       "      <td>761854.0</td>\n",
       "      <td>1270704.0</td>\n",
       "      <td>803976.0</td>\n",
       "    </tr>\n",
       "    <tr>\n",
       "      <th>3</th>\n",
       "      <td>Entertainment</td>\n",
       "      <td>10933280.0</td>\n",
       "      <td>42635220.0</td>\n",
       "      <td>13084335.0</td>\n",
       "    </tr>\n",
       "    <tr>\n",
       "      <th>4</th>\n",
       "      <td>Film &amp; Animation</td>\n",
       "      <td>1076444.0</td>\n",
       "      <td>3068776.0</td>\n",
       "      <td>1087812.0</td>\n",
       "    </tr>\n",
       "    <tr>\n",
       "      <th>5</th>\n",
       "      <td>Gaming</td>\n",
       "      <td>5629740.0</td>\n",
       "      <td>3397928.0</td>\n",
       "      <td>6643562.0</td>\n",
       "    </tr>\n",
       "    <tr>\n",
       "      <th>6</th>\n",
       "      <td>Howto &amp; Style</td>\n",
       "      <td>1180737.0</td>\n",
       "      <td>1824085.0</td>\n",
       "      <td>1731808.0</td>\n",
       "    </tr>\n",
       "    <tr>\n",
       "      <th>7</th>\n",
       "      <td>Music</td>\n",
       "      <td>15113442.0</td>\n",
       "      <td>30205188.0</td>\n",
       "      <td>17535171.0</td>\n",
       "    </tr>\n",
       "    <tr>\n",
       "      <th>8</th>\n",
       "      <td>News &amp; Politics</td>\n",
       "      <td>1300563.0</td>\n",
       "      <td>3074948.0</td>\n",
       "      <td>1268118.0</td>\n",
       "    </tr>\n",
       "    <tr>\n",
       "      <th>9</th>\n",
       "      <td>Nonprofits &amp; Activism</td>\n",
       "      <td>15719.0</td>\n",
       "      <td>13501.0</td>\n",
       "      <td>31198.0</td>\n",
       "    </tr>\n",
       "    <tr>\n",
       "      <th>10</th>\n",
       "      <td>People &amp; Blogs</td>\n",
       "      <td>6632269.0</td>\n",
       "      <td>8440431.0</td>\n",
       "      <td>7879975.0</td>\n",
       "    </tr>\n",
       "    <tr>\n",
       "      <th>11</th>\n",
       "      <td>Pets &amp; Animals</td>\n",
       "      <td>79661.0</td>\n",
       "      <td>1941.0</td>\n",
       "      <td>103388.0</td>\n",
       "    </tr>\n",
       "    <tr>\n",
       "      <th>12</th>\n",
       "      <td>Science &amp; Technology</td>\n",
       "      <td>1582082.0</td>\n",
       "      <td>5997318.0</td>\n",
       "      <td>1786476.0</td>\n",
       "    </tr>\n",
       "    <tr>\n",
       "      <th>13</th>\n",
       "      <td>Short Movies</td>\n",
       "      <td>0.0</td>\n",
       "      <td>0.0</td>\n",
       "      <td>0.0</td>\n",
       "    </tr>\n",
       "    <tr>\n",
       "      <th>14</th>\n",
       "      <td>Sports</td>\n",
       "      <td>2783813.0</td>\n",
       "      <td>2007899.0</td>\n",
       "      <td>2855217.0</td>\n",
       "    </tr>\n",
       "    <tr>\n",
       "      <th>15</th>\n",
       "      <td>Travel &amp; Events</td>\n",
       "      <td>56201.0</td>\n",
       "      <td>295353.0</td>\n",
       "      <td>92171.0</td>\n",
       "    </tr>\n",
       "  </tbody>\n",
       "</table>\n",
       "</div>"
      ],
      "text/plain": [
       "            Category Name          GB         IND          US\n",
       "0        Autos & Vehicles    314123.0    294638.0    380428.0\n",
       "1                  Comedy   2215682.0   5995624.0   3633282.0\n",
       "2               Education    761854.0   1270704.0    803976.0\n",
       "3           Entertainment  10933280.0  42635220.0  13084335.0\n",
       "4        Film & Animation   1076444.0   3068776.0   1087812.0\n",
       "5                  Gaming   5629740.0   3397928.0   6643562.0\n",
       "6           Howto & Style   1180737.0   1824085.0   1731808.0\n",
       "7                   Music  15113442.0  30205188.0  17535171.0\n",
       "8         News & Politics   1300563.0   3074948.0   1268118.0\n",
       "9   Nonprofits & Activism     15719.0     13501.0     31198.0\n",
       "10         People & Blogs   6632269.0   8440431.0   7879975.0\n",
       "11         Pets & Animals     79661.0      1941.0    103388.0\n",
       "12   Science & Technology   1582082.0   5997318.0   1786476.0\n",
       "13           Short Movies         0.0         0.0         0.0\n",
       "14                 Sports   2783813.0   2007899.0   2855217.0\n",
       "15        Travel & Events     56201.0    295353.0     92171.0"
      ]
     },
     "execution_count": 16,
     "metadata": {},
     "output_type": "execute_result"
    }
   ],
   "source": [
    "#Setting up a dataframe to make a bar graph of all countries data\n",
    "\n",
    "gb = categorya2_df[categorya2_df['Country'] == 'GB']\n",
    "gb_Dislikes = pd.DataFrame(gb[['Category Name','Dislikes']])\n",
    "gb_Dislikes = gb_Dislikes.rename(columns={\"Dislikes\": \"GB\"})\n",
    "#gb_likes = gb_likes.reset_index()\n",
    "\n",
    "ind = categorya2_df[categorya2_df['Country'] == 'IND']\n",
    "ind_Dislikes = pd.DataFrame(ind[['Category Name','Dislikes']])\n",
    "ind_Dislikes = ind_Dislikes.rename(columns={\"Dislikes\": \"IND\"})\n",
    "#ind_likes = ind_likes.reset_index()\n",
    "\n",
    "us = categorya2_df[categorya2_df['Country'] == 'US']\n",
    "us_Dislikes = pd.DataFrame(us[['Category Name','Dislikes']])\n",
    "us_Dislikes = us_Dislikes.rename(columns={\"Dislikes\": \"US\"})\n",
    "#us_likes = us_likes.reset_index()\n",
    "\n",
    "concat_df = pd.merge(gb_Dislikes,ind_Dislikes, on=[\"Category Name\"])\n",
    "concat_df = pd.merge(concat_df, us_Dislikes, on=[\"Category Name\"])\n",
    "concat_df.head(20)"
   ]
  },
  {
   "cell_type": "code",
   "execution_count": 17,
   "id": "ef56c84a",
   "metadata": {},
   "outputs": [
    {
     "data": {
      "text/plain": [
       "<AxesSubplot:title={'center':'Total Likes Per Category'}, xlabel='Category Name'>"
      ]
     },
     "execution_count": 17,
     "metadata": {},
     "output_type": "execute_result"
    },
    {
     "data": {
      "image/png": "[encoded data removed]",
      "text/plain": [
       "<Figure size 432x288 with 1 Axes>"
      ]
     },
     "metadata": {
      "needs_background": "light"
     },
     "output_type": "display_data"
    }
   ],
   "source": [
    "#Setting Bar graph\n",
    "concatlikes_df.plot(x='Category Name',\n",
    "        kind='bar',\n",
    "        stacked=False,\n",
    "        title='Total Likes Per Category')"
   ]
  },
  {
   "cell_type": "code",
   "execution_count": 18,
   "id": "ca0a2f39",
   "metadata": {},
   "outputs": [
    {
     "data": {
      "text/plain": [
       "<AxesSubplot:title={'center':'Total Dislikes Per Category'}, xlabel='Category Name'>"
      ]
     },
     "execution_count": 18,
     "metadata": {},
     "output_type": "execute_result"
    },
    {
     "data": {
      "image/png": "[encoded data removed]",
      "text/plain": [
       "<Figure size 432x288 with 1 Axes>"
      ]
     },
     "metadata": {
      "needs_background": "light"
     },
     "output_type": "display_data"
    }
   ],
   "source": [
    "#Setting Bar graph\n",
    "concat_df.plot(x='Category Name',\n",
    "        kind='bar',\n",
    "        stacked=False,\n",
    "        title='Total Dislikes Per Category')"
   ]
  },
  {
   "cell_type": "code",
   "execution_count": 19,
   "id": "24cc5416",
   "metadata": {},
   "outputs": [
    {
     "data": {
      "image/png": "[encoded data removed]",
      "text/plain": [
       "<Figure size 1080x504 with 2 Axes>"
      ]
     },
     "metadata": {
      "needs_background": "light"
     },
     "output_type": "display_data"
    }
   ],
   "source": [
    "h_labels = [x.replace('_', ' ').title() for x in \n",
    "            list(categorya2_df.select_dtypes(include=['number', 'bool']).columns.values)]\n",
    "\n",
    "fig, ax = plt.subplots(figsize=(15,7))\n",
    "_ = sns.heatmap(categorya2_df.corr(), annot=True, xticklabels=h_labels, yticklabels=h_labels, cmap=sns.cubehelix_palette(start=2.8, rot=.1))\n",
    "\n",
    "\n",
    "#Youtube Trending video analysis:\n",
    "\n",
    "#This shows how and if the variables in a dataset correlate/relationship with one another.The table on the right show has a scale of \n",
    " #  0.4being the lowest correlation  to 1.0 being the strongest correlation to another. We can see that views and likes  are strongly correlated to one another.\n",
    "    \n"
   ]
  },
  {
   "cell_type": "code",
   "execution_count": null,
   "id": "5b6c2ea3",
   "metadata": {},
   "outputs": [],
   "source": []
  }
 ],
 "metadata": {
  "kernelspec": {
   "display_name": "Python 3",
   "language": "python",
   "name": "python3"
  },
  "language_info": {
   "codemirror_mode": {
    "name": "ipython",
    "version": 3
   },
   "file_extension": ".py",
   "mimetype": "text/x-python",
   "name": "python",
   "nbconvert_exporter": "python",
   "pygments_lexer": "ipython3",
   "version": "3.8.8"
  }
 },
 "nbformat": 4,
 "nbformat_minor": 5
}
